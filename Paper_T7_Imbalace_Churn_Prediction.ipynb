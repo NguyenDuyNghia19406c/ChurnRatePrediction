{
  "cells": [
    {
      "cell_type": "markdown",
      "metadata": {
        "id": "xjuJSr55_eap"
      },
      "source": [
        "# Import Libary"
      ]
    },
    {
      "cell_type": "code",
      "execution_count": null,
      "metadata": {
        "id": "ugMFuygy_cwR"
      },
      "outputs": [],
      "source": [
        "import pandas as pd\n",
        "import numpy as np\n",
        "from sklearn.linear_model import LogisticRegression\n",
        "from sklearn.tree import DecisionTreeClassifier\n",
        "from sklearn.ensemble import RandomForestClassifier\n",
        "from sklearn.svm import SVC\n",
        "from sklearn.feature_selection import RFECV\n",
        "from sklearn.preprocessing import LabelEncoder, OrdinalEncoder, StandardScaler\n",
        "from sklearn import metrics\n",
        "import matplotlib.pyplot as plt\n",
        "from collections import Counter\n",
        "from imblearn.over_sampling import SMOTENC, SMOTE\n",
        "from imblearn.combine import SMOTEENN\n",
        "from imblearn.combine import SMOTETomek\n",
        "from sklearn.model_selection import train_test_split\n",
        "from sklearn.ensemble import AdaBoostClassifier\n",
        "import xgboost as xgb"
      ]
    },
    {
      "cell_type": "markdown",
      "metadata": {
        "id": "81lO7JrQAzz3"
      },
      "source": [
        "# Load Dataset"
      ]
    },
    {
      "cell_type": "code",
      "execution_count": null,
      "metadata": {
        "colab": {
          "base_uri": "https://localhost:8080/",
          "height": 74,
          "resources": {
            "http://localhost:8080/nbextensions/google.colab/files.js": {
              "data": "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",
              "headers": [
                [
                  "content-type",
                  "application/javascript"
                ]
              ],
              "ok": true,
              "status": 200,
              "status_text": ""
            }
          }
        },
        "id": "FI72SIFcA4jo",
        "outputId": "119e665f-e698-43e5-d570-1986e3bf8d79"
      },
      "outputs": [
        {
          "output_type": "display_data",
          "data": {
            "text/plain": [
              "<IPython.core.display.HTML object>"
            ],
            "text/html": [
              "\n",
              "     <input type=\"file\" id=\"files-f67b43d7-a802-4bf1-9655-6b18143429cf\" name=\"files[]\" multiple disabled\n",
              "        style=\"border:none\" />\n",
              "     <output id=\"result-f67b43d7-a802-4bf1-9655-6b18143429cf\">\n",
              "      Upload widget is only available when the cell has been executed in the\n",
              "      current browser session. Please rerun this cell to enable.\n",
              "      </output>\n",
              "      <script src=\"/nbextensions/google.colab/files.js\"></script> "
            ]
          },
          "metadata": {}
        },
        {
          "output_type": "stream",
          "name": "stdout",
          "text": [
            "Saving BankChurners.csv to BankChurners.csv\n"
          ]
        }
      ],
      "source": [
        "# Load data\n",
        "# If dataset already loaded, do not run this code below\n",
        "from google.colab import files\n",
        "uploaded = files.upload()"
      ]
    },
    {
      "cell_type": "code",
      "execution_count": null,
      "metadata": {
        "id": "Ik2iVYMcBqfh"
      },
      "outputs": [],
      "source": [
        "# load the dataset as a pandas DataFrame\n",
        "data = pd.read_csv(\"BankChurners.csv\")\n",
        "# remove unnecessary columns\n",
        "data.drop(labels=['CLIENTNUM', data.columns[-1], data.columns[-2]], axis=1, inplace=True)\n",
        "# drop rows having NA value\n",
        "#data.dropna(inplace=True)\n",
        "# split into input (X) and output (y) variables\n",
        "X = data.drop('Attrition_Flag', axis=1)\n",
        "y = data['Attrition_Flag']"
      ]
    },
    {
      "cell_type": "markdown",
      "metadata": {
        "id": "Lf4fDXRrCAiC"
      },
      "source": [
        "# Descriptive Dataset"
      ]
    },
    {
      "cell_type": "code",
      "execution_count": null,
      "metadata": {
        "colab": {
          "base_uri": "https://localhost:8080/"
        },
        "id": "bm2AOAs-OPIj",
        "outputId": "539c8195-ba9f-4138-cf8b-edcae6d362ca"
      },
      "outputs": [
        {
          "output_type": "stream",
          "name": "stdout",
          "text": [
            "<class 'pandas.core.frame.DataFrame'>\n",
            "RangeIndex: 10127 entries, 0 to 10126\n",
            "Data columns (total 20 columns):\n",
            " #   Column                    Non-Null Count  Dtype  \n",
            "---  ------                    --------------  -----  \n",
            " 0   Attrition_Flag            10127 non-null  object \n",
            " 1   Customer_Age              10125 non-null  float64\n",
            " 2   Gender                    10127 non-null  object \n",
            " 3   Dependent_count           10127 non-null  int64  \n",
            " 4   Education_Level           10125 non-null  object \n",
            " 5   Marital_Status            10126 non-null  object \n",
            " 6   Income_Category           10125 non-null  object \n",
            " 7   Card_Category             10127 non-null  object \n",
            " 8   Months_on_book            10125 non-null  float64\n",
            " 9   Total_Relationship_Count  10127 non-null  int64  \n",
            " 10  Months_Inactive_12_mon    10127 non-null  int64  \n",
            " 11  Contacts_Count_12_mon     10127 non-null  int64  \n",
            " 12  Credit_Limit              10119 non-null  float64\n",
            " 13  Total_Revolving_Bal       10127 non-null  int64  \n",
            " 14  Avg_Open_To_Buy           10121 non-null  float64\n",
            " 15  Total_Amt_Chng_Q4_Q1      10123 non-null  float64\n",
            " 16  Total_Trans_Amt           10122 non-null  float64\n",
            " 17  Total_Trans_Ct            10127 non-null  int64  \n",
            " 18  Total_Ct_Chng_Q4_Q1       10122 non-null  float64\n",
            " 19  Avg_Utilization_Ratio     10124 non-null  float64\n",
            "dtypes: float64(8), int64(6), object(6)\n",
            "memory usage: 1.5+ MB\n"
          ]
        }
      ],
      "source": [
        "data.info()"
      ]
    },
    {
      "cell_type": "code",
      "execution_count": null,
      "metadata": {
        "id": "23Jc2NZzOQya"
      },
      "outputs": [],
      "source": [
        "# Select categories features\n",
        "df_cate = data.select_dtypes(include='object')\n",
        "df_num = data.select_dtypes(exclude='object')\n"
      ]
    },
    {
      "cell_type": "code",
      "execution_count": null,
      "metadata": {
        "id": "Awto56pZsw-Z"
      },
      "outputs": [],
      "source": [
        ""
      ]
    },
    {
      "cell_type": "markdown",
      "metadata": {
        "id": "iQcv-V3hCWcS"
      },
      "source": [
        "# Preprocessing "
      ]
    },
    {
      "cell_type": "markdown",
      "metadata": {
        "id": "lXKpTCgADXYX"
      },
      "source": [
        "##Label Encoding"
      ]
    },
    {
      "cell_type": "code",
      "execution_count": null,
      "metadata": {
        "colab": {
          "base_uri": "https://localhost:8080/",
          "height": 352
        },
        "id": "lUQP7mdYCZsK",
        "outputId": "cdb49a94-f04c-47aa-a9d8-fd295e1d82d5"
      },
      "outputs": [
        {
          "output_type": "stream",
          "name": "stdout",
          "text": [
            "Counter({1: 8500, 0: 1627})\n",
            "Counter({0: 8500, 1: 1627})\n"
          ]
        },
        {
          "output_type": "execute_result",
          "data": {
            "text/plain": [
              "   Customer_Age  Gender  Dependent_count  Months_on_book  \\\n",
              "0          45.0       1                3            39.0   \n",
              "1          49.0       0                5            44.0   \n",
              "2          51.0       1                3            36.0   \n",
              "3          40.0       0                4            34.0   \n",
              "4          40.0       1                3            21.0   \n",
              "\n",
              "   Total_Relationship_Count  Months_Inactive_12_mon  Contacts_Count_12_mon  \\\n",
              "0                         5                       1                      3   \n",
              "1                         6                       1                      2   \n",
              "2                         4                       1                      0   \n",
              "3                         3                       4                      1   \n",
              "4                         5                       1                      0   \n",
              "\n",
              "   Credit_Limit  Total_Revolving_Bal  Avg_Open_To_Buy  ...  \\\n",
              "0       12691.0                  777          11914.0  ...   \n",
              "1        8256.0                  864           7392.0  ...   \n",
              "2        3418.0                    0           3418.0  ...   \n",
              "3        3313.0                 2517            796.0  ...   \n",
              "4        4716.0                    0           4716.0  ...   \n",
              "\n",
              "   Income_Category_Less than $40K  Income_Category_Unknown  \\\n",
              "0                               0                        0   \n",
              "1                               1                        0   \n",
              "2                               0                        0   \n",
              "3                               1                        0   \n",
              "4                               0                        0   \n",
              "\n",
              "   Card_Category_Blue  Card_Category_Gold  Card_Category_Platinum  \\\n",
              "0                   1                   0                       0   \n",
              "1                   1                   0                       0   \n",
              "2                   1                   0                       0   \n",
              "3                   1                   0                       0   \n",
              "4                   1                   0                       0   \n",
              "\n",
              "   Card_Category_Silver  Marital_Status_Divorced  Marital_Status_Married  \\\n",
              "0                     0                        0                       1   \n",
              "1                     0                        0                       0   \n",
              "2                     0                        0                       1   \n",
              "3                     0                        0                       0   \n",
              "4                     0                        0                       1   \n",
              "\n",
              "   Marital_Status_Single  Marital_Status_Unknown  \n",
              "0                      0                       0  \n",
              "1                      1                       0  \n",
              "2                      0                       0  \n",
              "3                      0                       1  \n",
              "4                      0                       0  \n",
              "\n",
              "[5 rows x 36 columns]"
            ],
            "text/html": [
              "\n",
              "  <div id=\"df-f43f5ea0-8110-4ff8-b356-d21e72d1b9da\">\n",
              "    <div class=\"colab-df-container\">\n",
              "      <div>\n",
              "<style scoped>\n",
              "    .dataframe tbody tr th:only-of-type {\n",
              "        vertical-align: middle;\n",
              "    }\n",
              "\n",
              "    .dataframe tbody tr th {\n",
              "        vertical-align: top;\n",
              "    }\n",
              "\n",
              "    .dataframe thead th {\n",
              "        text-align: right;\n",
              "    }\n",
              "</style>\n",
              "<table border=\"1\" class=\"dataframe\">\n",
              "  <thead>\n",
              "    <tr style=\"text-align: right;\">\n",
              "      <th></th>\n",
              "      <th>Customer_Age</th>\n",
              "      <th>Gender</th>\n",
              "      <th>Dependent_count</th>\n",
              "      <th>Months_on_book</th>\n",
              "      <th>Total_Relationship_Count</th>\n",
              "      <th>Months_Inactive_12_mon</th>\n",
              "      <th>Contacts_Count_12_mon</th>\n",
              "      <th>Credit_Limit</th>\n",
              "      <th>Total_Revolving_Bal</th>\n",
              "      <th>Avg_Open_To_Buy</th>\n",
              "      <th>...</th>\n",
              "      <th>Income_Category_Less than $40K</th>\n",
              "      <th>Income_Category_Unknown</th>\n",
              "      <th>Card_Category_Blue</th>\n",
              "      <th>Card_Category_Gold</th>\n",
              "      <th>Card_Category_Platinum</th>\n",
              "      <th>Card_Category_Silver</th>\n",
              "      <th>Marital_Status_Divorced</th>\n",
              "      <th>Marital_Status_Married</th>\n",
              "      <th>Marital_Status_Single</th>\n",
              "      <th>Marital_Status_Unknown</th>\n",
              "    </tr>\n",
              "  </thead>\n",
              "  <tbody>\n",
              "    <tr>\n",
              "      <th>0</th>\n",
              "      <td>45.0</td>\n",
              "      <td>1</td>\n",
              "      <td>3</td>\n",
              "      <td>39.0</td>\n",
              "      <td>5</td>\n",
              "      <td>1</td>\n",
              "      <td>3</td>\n",
              "      <td>12691.0</td>\n",
              "      <td>777</td>\n",
              "      <td>11914.0</td>\n",
              "      <td>...</td>\n",
              "      <td>0</td>\n",
              "      <td>0</td>\n",
              "      <td>1</td>\n",
              "      <td>0</td>\n",
              "      <td>0</td>\n",
              "      <td>0</td>\n",
              "      <td>0</td>\n",
              "      <td>1</td>\n",
              "      <td>0</td>\n",
              "      <td>0</td>\n",
              "    </tr>\n",
              "    <tr>\n",
              "      <th>1</th>\n",
              "      <td>49.0</td>\n",
              "      <td>0</td>\n",
              "      <td>5</td>\n",
              "      <td>44.0</td>\n",
              "      <td>6</td>\n",
              "      <td>1</td>\n",
              "      <td>2</td>\n",
              "      <td>8256.0</td>\n",
              "      <td>864</td>\n",
              "      <td>7392.0</td>\n",
              "      <td>...</td>\n",
              "      <td>1</td>\n",
              "      <td>0</td>\n",
              "      <td>1</td>\n",
              "      <td>0</td>\n",
              "      <td>0</td>\n",
              "      <td>0</td>\n",
              "      <td>0</td>\n",
              "      <td>0</td>\n",
              "      <td>1</td>\n",
              "      <td>0</td>\n",
              "    </tr>\n",
              "    <tr>\n",
              "      <th>2</th>\n",
              "      <td>51.0</td>\n",
              "      <td>1</td>\n",
              "      <td>3</td>\n",
              "      <td>36.0</td>\n",
              "      <td>4</td>\n",
              "      <td>1</td>\n",
              "      <td>0</td>\n",
              "      <td>3418.0</td>\n",
              "      <td>0</td>\n",
              "      <td>3418.0</td>\n",
              "      <td>...</td>\n",
              "      <td>0</td>\n",
              "      <td>0</td>\n",
              "      <td>1</td>\n",
              "      <td>0</td>\n",
              "      <td>0</td>\n",
              "      <td>0</td>\n",
              "      <td>0</td>\n",
              "      <td>1</td>\n",
              "      <td>0</td>\n",
              "      <td>0</td>\n",
              "    </tr>\n",
              "    <tr>\n",
              "      <th>3</th>\n",
              "      <td>40.0</td>\n",
              "      <td>0</td>\n",
              "      <td>4</td>\n",
              "      <td>34.0</td>\n",
              "      <td>3</td>\n",
              "      <td>4</td>\n",
              "      <td>1</td>\n",
              "      <td>3313.0</td>\n",
              "      <td>2517</td>\n",
              "      <td>796.0</td>\n",
              "      <td>...</td>\n",
              "      <td>1</td>\n",
              "      <td>0</td>\n",
              "      <td>1</td>\n",
              "      <td>0</td>\n",
              "      <td>0</td>\n",
              "      <td>0</td>\n",
              "      <td>0</td>\n",
              "      <td>0</td>\n",
              "      <td>0</td>\n",
              "      <td>1</td>\n",
              "    </tr>\n",
              "    <tr>\n",
              "      <th>4</th>\n",
              "      <td>40.0</td>\n",
              "      <td>1</td>\n",
              "      <td>3</td>\n",
              "      <td>21.0</td>\n",
              "      <td>5</td>\n",
              "      <td>1</td>\n",
              "      <td>0</td>\n",
              "      <td>4716.0</td>\n",
              "      <td>0</td>\n",
              "      <td>4716.0</td>\n",
              "      <td>...</td>\n",
              "      <td>0</td>\n",
              "      <td>0</td>\n",
              "      <td>1</td>\n",
              "      <td>0</td>\n",
              "      <td>0</td>\n",
              "      <td>0</td>\n",
              "      <td>0</td>\n",
              "      <td>1</td>\n",
              "      <td>0</td>\n",
              "      <td>0</td>\n",
              "    </tr>\n",
              "  </tbody>\n",
              "</table>\n",
              "<p>5 rows × 36 columns</p>\n",
              "</div>\n",
              "      <button class=\"colab-df-convert\" onclick=\"convertToInteractive('df-f43f5ea0-8110-4ff8-b356-d21e72d1b9da')\"\n",
              "              title=\"Convert this dataframe to an interactive table.\"\n",
              "              style=\"display:none;\">\n",
              "        \n",
              "  <svg xmlns=\"http://www.w3.org/2000/svg\" height=\"24px\"viewBox=\"0 0 24 24\"\n",
              "       width=\"24px\">\n",
              "    <path d=\"M0 0h24v24H0V0z\" fill=\"none\"/>\n",
              "    <path d=\"M18.56 5.44l.94 2.06.94-2.06 2.06-.94-2.06-.94-.94-2.06-.94 2.06-2.06.94zm-11 1L8.5 8.5l.94-2.06 2.06-.94-2.06-.94L8.5 2.5l-.94 2.06-2.06.94zm10 10l.94 2.06.94-2.06 2.06-.94-2.06-.94-.94-2.06-.94 2.06-2.06.94z\"/><path d=\"M17.41 7.96l-1.37-1.37c-.4-.4-.92-.59-1.43-.59-.52 0-1.04.2-1.43.59L10.3 9.45l-7.72 7.72c-.78.78-.78 2.05 0 2.83L4 21.41c.39.39.9.59 1.41.59.51 0 1.02-.2 1.41-.59l7.78-7.78 2.81-2.81c.8-.78.8-2.07 0-2.86zM5.41 20L4 18.59l7.72-7.72 1.47 1.35L5.41 20z\"/>\n",
              "  </svg>\n",
              "      </button>\n",
              "      \n",
              "  <style>\n",
              "    .colab-df-container {\n",
              "      display:flex;\n",
              "      flex-wrap:wrap;\n",
              "      gap: 12px;\n",
              "    }\n",
              "\n",
              "    .colab-df-convert {\n",
              "      background-color: #E8F0FE;\n",
              "      border: none;\n",
              "      border-radius: 50%;\n",
              "      cursor: pointer;\n",
              "      display: none;\n",
              "      fill: #1967D2;\n",
              "      height: 32px;\n",
              "      padding: 0 0 0 0;\n",
              "      width: 32px;\n",
              "    }\n",
              "\n",
              "    .colab-df-convert:hover {\n",
              "      background-color: #E2EBFA;\n",
              "      box-shadow: 0px 1px 2px rgba(60, 64, 67, 0.3), 0px 1px 3px 1px rgba(60, 64, 67, 0.15);\n",
              "      fill: #174EA6;\n",
              "    }\n",
              "\n",
              "    [theme=dark] .colab-df-convert {\n",
              "      background-color: #3B4455;\n",
              "      fill: #D2E3FC;\n",
              "    }\n",
              "\n",
              "    [theme=dark] .colab-df-convert:hover {\n",
              "      background-color: #434B5C;\n",
              "      box-shadow: 0px 1px 3px 1px rgba(0, 0, 0, 0.15);\n",
              "      filter: drop-shadow(0px 1px 2px rgba(0, 0, 0, 0.3));\n",
              "      fill: #FFFFFF;\n",
              "    }\n",
              "  </style>\n",
              "\n",
              "      <script>\n",
              "        const buttonEl =\n",
              "          document.querySelector('#df-f43f5ea0-8110-4ff8-b356-d21e72d1b9da button.colab-df-convert');\n",
              "        buttonEl.style.display =\n",
              "          google.colab.kernel.accessAllowed ? 'block' : 'none';\n",
              "\n",
              "        async function convertToInteractive(key) {\n",
              "          const element = document.querySelector('#df-f43f5ea0-8110-4ff8-b356-d21e72d1b9da');\n",
              "          const dataTable =\n",
              "            await google.colab.kernel.invokeFunction('convertToInteractive',\n",
              "                                                     [key], {});\n",
              "          if (!dataTable) return;\n",
              "\n",
              "          const docLinkHtml = 'Like what you see? Visit the ' +\n",
              "            '<a target=\"_blank\" href=https://colab.research.google.com/notebooks/data_table.ipynb>data table notebook</a>'\n",
              "            + ' to learn more about interactive tables.';\n",
              "          element.innerHTML = '';\n",
              "          dataTable['output_type'] = 'display_data';\n",
              "          await google.colab.output.renderOutput(dataTable, element);\n",
              "          const docLink = document.createElement('div');\n",
              "          docLink.innerHTML = docLinkHtml;\n",
              "          element.appendChild(docLink);\n",
              "        }\n",
              "      </script>\n",
              "    </div>\n",
              "  </div>\n",
              "  "
            ]
          },
          "metadata": {},
          "execution_count": 4
        }
      ],
      "source": [
        "# Source: https://github.com/Elite-Build-Team/bank-churn-prediction/blob/main/src/preprocessing.py\n",
        "# Attrition and gender are binary features, thus we use label encoder to encode them.\n",
        "enc = LabelEncoder()\n",
        "y_enc = enc.fit_transform(y)\n",
        "X[\"Gender\"] = enc.fit_transform(X[\"Gender\"])\n",
        "\n",
        "# Covert minority class to 1 (positive class) label due to metrits such as\n",
        "# f1-score, precision, recall in metrics package extracted from prediction of positive class\n",
        "# and we care much about how the models performing with minority class\n",
        "\n",
        "# Check target label\n",
        "count_targetlb = Counter(y_enc)\n",
        "print(count_targetlb)\n",
        "# label 0 for majority, 1 for minority class\n",
        "lb_0 = count_targetlb[0]\n",
        "lb_1 = count_targetlb[1]\n",
        "if lb_0 < lb_1:\n",
        "    y_enc = np.where(y_enc == 0, 1, 0)\n",
        "# Check result counter again\n",
        "count_targetlb = Counter(y_enc)\n",
        "print(count_targetlb)\n",
        "\n",
        "# One-Hot Encoding is used for the remaining categorical features.\n",
        "# [Geography]\n",
        "onehot_cols = ['Education_Level', 'Income_Category', 'Card_Category', 'Marital_Status']\n",
        "onehot_cols_new = pd.get_dummies(X[onehot_cols])\n",
        "\n",
        "# Concatenate df with new columns.\n",
        "X_enc = pd.concat([X, onehot_cols_new], axis=1)\n",
        "X_enc.drop(onehot_cols, axis=1, inplace=True)\n",
        "# Print\n",
        "X_enc.head(5)"
      ]
    },
    {
      "cell_type": "code",
      "execution_count": null,
      "metadata": {
        "colab": {
          "base_uri": "https://localhost:8080/"
        },
        "id": "3MO-HiDHuwyj",
        "outputId": "a5dbbfc0-33e3-4050-9f8c-ffb95e97a6d2"
      },
      "outputs": [
        {
          "output_type": "execute_result",
          "data": {
            "text/plain": [
              "35"
            ]
          },
          "metadata": {},
          "execution_count": 7
        }
      ],
      "source": [
        "X_enc.isna().sum().sum()"
      ]
    },
    {
      "cell_type": "markdown",
      "metadata": {
        "id": "xVqKc7-tzYiw"
      },
      "source": [
        "##Outlier"
      ]
    },
    {
      "cell_type": "code",
      "execution_count": null,
      "metadata": {
        "colab": {
          "base_uri": "https://localhost:8080/"
        },
        "id": "eyp0rXk9ze5o",
        "outputId": "a483a860-573a-44cd-bdab-c7bd552ebb4b"
      },
      "outputs": [
        {
          "output_type": "stream",
          "name": "stderr",
          "text": [
            "/usr/local/lib/python3.7/dist-packages/ipykernel_launcher.py:12: SettingWithCopyWarning: \n",
            "A value is trying to be set on a copy of a slice from a DataFrame\n",
            "\n",
            "See the caveats in the documentation: https://pandas.pydata.org/pandas-docs/stable/user_guide/indexing.html#returning-a-view-versus-a-copy\n",
            "  if sys.path[0] == '':\n",
            "/usr/local/lib/python3.7/dist-packages/pandas/core/indexing.py:1732: SettingWithCopyWarning: \n",
            "A value is trying to be set on a copy of a slice from a DataFrame\n",
            "\n",
            "See the caveats in the documentation: https://pandas.pydata.org/pandas-docs/stable/user_guide/indexing.html#returning-a-view-versus-a-copy\n",
            "  self._setitem_single_block(indexer, value, name)\n"
          ]
        },
        {
          "output_type": "stream",
          "name": "stdout",
          "text": [
            "<class 'pandas.core.frame.DataFrame'>\n",
            "RangeIndex: 10127 entries, 0 to 10126\n",
            "Data columns (total 36 columns):\n",
            " #   Column                          Non-Null Count  Dtype  \n",
            "---  ------                          --------------  -----  \n",
            " 0   Customer_Age                    10123 non-null  float64\n",
            " 1   Gender                          10127 non-null  int64  \n",
            " 2   Dependent_count                 10127 non-null  int64  \n",
            " 3   Months_on_book                  9739 non-null   float64\n",
            " 4   Total_Relationship_Count        10127 non-null  int64  \n",
            " 5   Months_Inactive_12_mon          9796 non-null   float64\n",
            " 6   Contacts_Count_12_mon           9498 non-null   float64\n",
            " 7   Credit_Limit                    9137 non-null   float64\n",
            " 8   Total_Revolving_Bal             10127 non-null  int64  \n",
            " 9   Avg_Open_To_Buy                 9159 non-null   float64\n",
            " 10  Total_Amt_Chng_Q4_Q1            9727 non-null   float64\n",
            " 11  Total_Trans_Amt                 9227 non-null   float64\n",
            " 12  Total_Trans_Ct                  10125 non-null  float64\n",
            " 13  Total_Ct_Chng_Q4_Q1             9728 non-null   float64\n",
            " 14  Avg_Utilization_Ratio           10124 non-null  float64\n",
            " 15  Education_Level_College         10127 non-null  uint8  \n",
            " 16  Education_Level_Doctorate       10127 non-null  uint8  \n",
            " 17  Education_Level_Graduate        10127 non-null  uint8  \n",
            " 18  Education_Level_High School     10127 non-null  uint8  \n",
            " 19  Education_Level_Post-Graduate   10127 non-null  uint8  \n",
            " 20  Education_Level_Uneducated      10127 non-null  uint8  \n",
            " 21  Education_Level_Unknown         10127 non-null  uint8  \n",
            " 22  Income_Category_$120K +         10127 non-null  uint8  \n",
            " 23  Income_Category_$40K - $60K     10127 non-null  uint8  \n",
            " 24  Income_Category_$60K - $80K     10127 non-null  uint8  \n",
            " 25  Income_Category_$80K - $120K    10127 non-null  uint8  \n",
            " 26  Income_Category_Less than $40K  10127 non-null  uint8  \n",
            " 27  Income_Category_Unknown         10127 non-null  uint8  \n",
            " 28  Card_Category_Blue              10127 non-null  uint8  \n",
            " 29  Card_Category_Gold              10127 non-null  uint8  \n",
            " 30  Card_Category_Platinum          10127 non-null  uint8  \n",
            " 31  Card_Category_Silver            10127 non-null  uint8  \n",
            " 32  Marital_Status_Divorced         10127 non-null  uint8  \n",
            " 33  Marital_Status_Married          10127 non-null  uint8  \n",
            " 34  Marital_Status_Single           10127 non-null  uint8  \n",
            " 35  Marital_Status_Unknown          10127 non-null  uint8  \n",
            "dtypes: float64(11), int64(4), uint8(21)\n",
            "memory usage: 1.4 MB\n",
            "None\n",
            "[IterativeImputer] Completing matrix with shape (10127, 36)\n",
            "[IterativeImputer] Ending imputation round 1/1, elapsed time 0.64\n",
            "[IterativeImputer] Change: 22124.32029916571, scaled tolerance: 2.3858e-06 \n",
            "<class 'pandas.core.frame.DataFrame'>\n",
            "RangeIndex: 10127 entries, 0 to 10126\n",
            "Data columns (total 36 columns):\n",
            " #   Column                          Non-Null Count  Dtype  \n",
            "---  ------                          --------------  -----  \n",
            " 0   Customer_Age                    10127 non-null  float64\n",
            " 1   Gender                          10127 non-null  float64\n",
            " 2   Dependent_count                 10127 non-null  float64\n",
            " 3   Months_on_book                  10127 non-null  float64\n",
            " 4   Total_Relationship_Count        10127 non-null  float64\n",
            " 5   Months_Inactive_12_mon          10127 non-null  float64\n",
            " 6   Contacts_Count_12_mon           10127 non-null  float64\n",
            " 7   Credit_Limit                    10127 non-null  float64\n",
            " 8   Total_Revolving_Bal             10127 non-null  float64\n",
            " 9   Avg_Open_To_Buy                 10127 non-null  float64\n",
            " 10  Total_Amt_Chng_Q4_Q1            10127 non-null  float64\n",
            " 11  Total_Trans_Amt                 10127 non-null  float64\n",
            " 12  Total_Trans_Ct                  10127 non-null  float64\n",
            " 13  Total_Ct_Chng_Q4_Q1             10127 non-null  float64\n",
            " 14  Avg_Utilization_Ratio           10127 non-null  float64\n",
            " 15  Education_Level_College         10127 non-null  float64\n",
            " 16  Education_Level_Doctorate       10127 non-null  float64\n",
            " 17  Education_Level_Graduate        10127 non-null  float64\n",
            " 18  Education_Level_High School     10127 non-null  float64\n",
            " 19  Education_Level_Post-Graduate   10127 non-null  float64\n",
            " 20  Education_Level_Uneducated      10127 non-null  float64\n",
            " 21  Education_Level_Unknown         10127 non-null  float64\n",
            " 22  Income_Category_$120K +         10127 non-null  float64\n",
            " 23  Income_Category_$40K - $60K     10127 non-null  float64\n",
            " 24  Income_Category_$60K - $80K     10127 non-null  float64\n",
            " 25  Income_Category_$80K - $120K    10127 non-null  float64\n",
            " 26  Income_Category_Less than $40K  10127 non-null  float64\n",
            " 27  Income_Category_Unknown         10127 non-null  float64\n",
            " 28  Card_Category_Blue              10127 non-null  float64\n",
            " 29  Card_Category_Gold              10127 non-null  float64\n",
            " 30  Card_Category_Platinum          10127 non-null  float64\n",
            " 31  Card_Category_Silver            10127 non-null  float64\n",
            " 32  Marital_Status_Divorced         10127 non-null  float64\n",
            " 33  Marital_Status_Married          10127 non-null  float64\n",
            " 34  Marital_Status_Single           10127 non-null  float64\n",
            " 35  Marital_Status_Unknown          10127 non-null  float64\n",
            "dtypes: float64(36)\n",
            "memory usage: 2.8 MB\n",
            "None\n"
          ]
        },
        {
          "output_type": "stream",
          "name": "stderr",
          "text": [
            "/usr/local/lib/python3.7/dist-packages/sklearn/impute/_iterative.py:701: ConvergenceWarning: [IterativeImputer] Early stopping criterion not reached.\n",
            "  ConvergenceWarning,\n"
          ]
        }
      ],
      "source": [
        "# Hàm xử lý outlier\n",
        "def iqr_outliers(df):\n",
        "  q1 = df.quantile(0.25)\n",
        "  q3 = df.quantile(0.75)\n",
        "  iqr = q3-q1\n",
        "  Lower_tail = q1 - 1.5 * iqr\n",
        "  Upper_tail = q3 + 1.5 * iqr\n",
        "  flag = 0\n",
        "  for i in df:\n",
        "    flag+=1 # Lấy index của các outlier\n",
        "    if i > Upper_tail or i < Lower_tail:\n",
        "      df[flag-1] = np.nan # Chuyển các outlier thành missing value\n",
        "\n",
        "# Xử lý outlier thành missing trên toàn bộ tập data\n",
        "for i in X_enc:\n",
        "  if i  in df_num.columns: # Các biến không phải là Categori\n",
        "    iqr_outliers(X_enc[i])\n",
        "print(X_enc.info())  \n",
        "\n",
        "# Xử lý missing value\n",
        "from sklearn.linear_model import LinearRegression\n",
        "import sklearn\n",
        "sklearn.__version__\n",
        "\n",
        "from sklearn.experimental import enable_iterative_imputer\n",
        "from sklearn.impute import IterativeImputer\n",
        "\n",
        "lr = LinearRegression()\n",
        "imp = IterativeImputer(estimator=lr,verbose=2,max_iter=1,tol=1e-10, imputation_order=\"roman\")\n",
        "X_miss=imp.fit_transform(X_enc)\n",
        "X_enc=pd.DataFrame(X_miss,columns=X_enc.columns)\n",
        "print(X_enc.info())"
      ]
    },
    {
      "cell_type": "markdown",
      "metadata": {
        "id": "AKN7-DO_Dah3"
      },
      "source": [
        "##Splitting Training-Testing"
      ]
    },
    {
      "cell_type": "code",
      "execution_count": null,
      "metadata": {
        "id": "Z9S_U3wwDoox"
      },
      "outputs": [],
      "source": [
        "# Splitting 0.7 for training and 0.3 for testing\n",
        "\n",
        "X_train, X_test, y_train, y_test = train_test_split(X_enc, y_enc, test_size=0.3, random_state=0)"
      ]
    },
    {
      "cell_type": "markdown",
      "metadata": {
        "id": "7UJT5VnVDu3n"
      },
      "source": [
        "##Scaling Features"
      ]
    },
    {
      "cell_type": "code",
      "source": [
        "# Scaliong for CV\n",
        "sc = StandardScaler()\n",
        "X = sc.fit_transform(X_enc)\n",
        "y = y_enc"
      ],
      "metadata": {
        "id": "Hf4BVBnxHlp7"
      },
      "execution_count": null,
      "outputs": []
    },
    {
      "cell_type": "code",
      "execution_count": null,
      "metadata": {
        "colab": {
          "base_uri": "https://localhost:8080/",
          "height": 317
        },
        "id": "IyMFfdktDuLQ",
        "outputId": "e551f1ae-70fb-45f5-edcd-8ce0ba431235"
      },
      "outputs": [
        {
          "data": {
            "text/html": [
              "\n",
              "  <div id=\"df-59b76e74-cb5b-468e-bfd2-53615c2bb6a7\">\n",
              "    <div class=\"colab-df-container\">\n",
              "      <div>\n",
              "<style scoped>\n",
              "    .dataframe tbody tr th:only-of-type {\n",
              "        vertical-align: middle;\n",
              "    }\n",
              "\n",
              "    .dataframe tbody tr th {\n",
              "        vertical-align: top;\n",
              "    }\n",
              "\n",
              "    .dataframe thead th {\n",
              "        text-align: right;\n",
              "    }\n",
              "</style>\n",
              "<table border=\"1\" class=\"dataframe\">\n",
              "  <thead>\n",
              "    <tr style=\"text-align: right;\">\n",
              "      <th></th>\n",
              "      <th>Customer_Age</th>\n",
              "      <th>Gender</th>\n",
              "      <th>Dependent_count</th>\n",
              "      <th>Months_on_book</th>\n",
              "      <th>Total_Relationship_Count</th>\n",
              "      <th>Months_Inactive_12_mon</th>\n",
              "      <th>Contacts_Count_12_mon</th>\n",
              "      <th>Credit_Limit</th>\n",
              "      <th>Total_Revolving_Bal</th>\n",
              "      <th>Avg_Open_To_Buy</th>\n",
              "      <th>...</th>\n",
              "      <th>Income_Category_Less than $40K</th>\n",
              "      <th>Income_Category_Unknown</th>\n",
              "      <th>Card_Category_Blue</th>\n",
              "      <th>Card_Category_Gold</th>\n",
              "      <th>Card_Category_Platinum</th>\n",
              "      <th>Card_Category_Silver</th>\n",
              "      <th>Marital_Status_Divorced</th>\n",
              "      <th>Marital_Status_Married</th>\n",
              "      <th>Marital_Status_Single</th>\n",
              "      <th>Marital_Status_Unknown</th>\n",
              "    </tr>\n",
              "  </thead>\n",
              "  <tbody>\n",
              "    <tr>\n",
              "      <th>0</th>\n",
              "      <td>0.071555</td>\n",
              "      <td>1.058419</td>\n",
              "      <td>-0.268854</td>\n",
              "      <td>0.545638</td>\n",
              "      <td>1.414525</td>\n",
              "      <td>-1.486454</td>\n",
              "      <td>0.555004</td>\n",
              "      <td>2.068411</td>\n",
              "      <td>0.075773</td>\n",
              "      <td>2.051454</td>\n",
              "      <td>...</td>\n",
              "      <td>-0.734755</td>\n",
              "      <td>-0.352149</td>\n",
              "      <td>0.266796</td>\n",
              "      <td>-0.107517</td>\n",
              "      <td>-0.047565</td>\n",
              "      <td>-0.236018</td>\n",
              "      <td>3.546624</td>\n",
              "      <td>-0.931779</td>\n",
              "      <td>-0.800937</td>\n",
              "      <td>-0.276084</td>\n",
              "    </tr>\n",
              "    <tr>\n",
              "      <th>1</th>\n",
              "      <td>0.951319</td>\n",
              "      <td>1.058419</td>\n",
              "      <td>-1.040993</td>\n",
              "      <td>1.648729</td>\n",
              "      <td>0.127801</td>\n",
              "      <td>-0.019205</td>\n",
              "      <td>1.662909</td>\n",
              "      <td>-0.298444</td>\n",
              "      <td>0.081877</td>\n",
              "      <td>-0.311026</td>\n",
              "      <td>...</td>\n",
              "      <td>-0.734755</td>\n",
              "      <td>-0.352149</td>\n",
              "      <td>0.266796</td>\n",
              "      <td>-0.107517</td>\n",
              "      <td>-0.047565</td>\n",
              "      <td>-0.236018</td>\n",
              "      <td>-0.281958</td>\n",
              "      <td>-0.931779</td>\n",
              "      <td>1.248537</td>\n",
              "      <td>-0.276084</td>\n",
              "    </tr>\n",
              "    <tr>\n",
              "      <th>2</th>\n",
              "      <td>-0.682528</td>\n",
              "      <td>-0.944805</td>\n",
              "      <td>1.275424</td>\n",
              "      <td>-0.419567</td>\n",
              "      <td>0.771163</td>\n",
              "      <td>-0.301717</td>\n",
              "      <td>0.555004</td>\n",
              "      <td>-0.666433</td>\n",
              "      <td>-0.417437</td>\n",
              "      <td>-0.597620</td>\n",
              "      <td>...</td>\n",
              "      <td>1.360997</td>\n",
              "      <td>-0.352149</td>\n",
              "      <td>0.266796</td>\n",
              "      <td>-0.107517</td>\n",
              "      <td>-0.047565</td>\n",
              "      <td>-0.236018</td>\n",
              "      <td>-0.281958</td>\n",
              "      <td>1.073215</td>\n",
              "      <td>-0.800937</td>\n",
              "      <td>-0.276084</td>\n",
              "    </tr>\n",
              "    <tr>\n",
              "      <th>3</th>\n",
              "      <td>0.197236</td>\n",
              "      <td>-0.944805</td>\n",
              "      <td>0.503285</td>\n",
              "      <td>0.407752</td>\n",
              "      <td>-0.515561</td>\n",
              "      <td>-1.486454</td>\n",
              "      <td>-0.552900</td>\n",
              "      <td>-0.026401</td>\n",
              "      <td>0.705715</td>\n",
              "      <td>-0.140251</td>\n",
              "      <td>...</td>\n",
              "      <td>-0.734755</td>\n",
              "      <td>2.839707</td>\n",
              "      <td>0.266796</td>\n",
              "      <td>-0.107517</td>\n",
              "      <td>-0.047565</td>\n",
              "      <td>-0.236018</td>\n",
              "      <td>-0.281958</td>\n",
              "      <td>1.073215</td>\n",
              "      <td>-0.800937</td>\n",
              "      <td>-0.276084</td>\n",
              "    </tr>\n",
              "    <tr>\n",
              "      <th>4</th>\n",
              "      <td>0.322916</td>\n",
              "      <td>1.058419</td>\n",
              "      <td>1.275424</td>\n",
              "      <td>0.683524</td>\n",
              "      <td>-0.515561</td>\n",
              "      <td>-1.486454</td>\n",
              "      <td>-1.660805</td>\n",
              "      <td>0.181679</td>\n",
              "      <td>0.053798</td>\n",
              "      <td>0.172540</td>\n",
              "      <td>...</td>\n",
              "      <td>-0.734755</td>\n",
              "      <td>-0.352149</td>\n",
              "      <td>0.266796</td>\n",
              "      <td>-0.107517</td>\n",
              "      <td>-0.047565</td>\n",
              "      <td>-0.236018</td>\n",
              "      <td>3.546624</td>\n",
              "      <td>-0.931779</td>\n",
              "      <td>-0.800937</td>\n",
              "      <td>-0.276084</td>\n",
              "    </tr>\n",
              "  </tbody>\n",
              "</table>\n",
              "<p>5 rows × 36 columns</p>\n",
              "</div>\n",
              "      <button class=\"colab-df-convert\" onclick=\"convertToInteractive('df-59b76e74-cb5b-468e-bfd2-53615c2bb6a7')\"\n",
              "              title=\"Convert this dataframe to an interactive table.\"\n",
              "              style=\"display:none;\">\n",
              "        \n",
              "  <svg xmlns=\"http://www.w3.org/2000/svg\" height=\"24px\"viewBox=\"0 0 24 24\"\n",
              "       width=\"24px\">\n",
              "    <path d=\"M0 0h24v24H0V0z\" fill=\"none\"/>\n",
              "    <path d=\"M18.56 5.44l.94 2.06.94-2.06 2.06-.94-2.06-.94-.94-2.06-.94 2.06-2.06.94zm-11 1L8.5 8.5l.94-2.06 2.06-.94-2.06-.94L8.5 2.5l-.94 2.06-2.06.94zm10 10l.94 2.06.94-2.06 2.06-.94-2.06-.94-.94-2.06-.94 2.06-2.06.94z\"/><path d=\"M17.41 7.96l-1.37-1.37c-.4-.4-.92-.59-1.43-.59-.52 0-1.04.2-1.43.59L10.3 9.45l-7.72 7.72c-.78.78-.78 2.05 0 2.83L4 21.41c.39.39.9.59 1.41.59.51 0 1.02-.2 1.41-.59l7.78-7.78 2.81-2.81c.8-.78.8-2.07 0-2.86zM5.41 20L4 18.59l7.72-7.72 1.47 1.35L5.41 20z\"/>\n",
              "  </svg>\n",
              "      </button>\n",
              "      \n",
              "  <style>\n",
              "    .colab-df-container {\n",
              "      display:flex;\n",
              "      flex-wrap:wrap;\n",
              "      gap: 12px;\n",
              "    }\n",
              "\n",
              "    .colab-df-convert {\n",
              "      background-color: #E8F0FE;\n",
              "      border: none;\n",
              "      border-radius: 50%;\n",
              "      cursor: pointer;\n",
              "      display: none;\n",
              "      fill: #1967D2;\n",
              "      height: 32px;\n",
              "      padding: 0 0 0 0;\n",
              "      width: 32px;\n",
              "    }\n",
              "\n",
              "    .colab-df-convert:hover {\n",
              "      background-color: #E2EBFA;\n",
              "      box-shadow: 0px 1px 2px rgba(60, 64, 67, 0.3), 0px 1px 3px 1px rgba(60, 64, 67, 0.15);\n",
              "      fill: #174EA6;\n",
              "    }\n",
              "\n",
              "    [theme=dark] .colab-df-convert {\n",
              "      background-color: #3B4455;\n",
              "      fill: #D2E3FC;\n",
              "    }\n",
              "\n",
              "    [theme=dark] .colab-df-convert:hover {\n",
              "      background-color: #434B5C;\n",
              "      box-shadow: 0px 1px 3px 1px rgba(0, 0, 0, 0.15);\n",
              "      filter: drop-shadow(0px 1px 2px rgba(0, 0, 0, 0.3));\n",
              "      fill: #FFFFFF;\n",
              "    }\n",
              "  </style>\n",
              "\n",
              "      <script>\n",
              "        const buttonEl =\n",
              "          document.querySelector('#df-59b76e74-cb5b-468e-bfd2-53615c2bb6a7 button.colab-df-convert');\n",
              "        buttonEl.style.display =\n",
              "          google.colab.kernel.accessAllowed ? 'block' : 'none';\n",
              "\n",
              "        async function convertToInteractive(key) {\n",
              "          const element = document.querySelector('#df-59b76e74-cb5b-468e-bfd2-53615c2bb6a7');\n",
              "          const dataTable =\n",
              "            await google.colab.kernel.invokeFunction('convertToInteractive',\n",
              "                                                     [key], {});\n",
              "          if (!dataTable) return;\n",
              "\n",
              "          const docLinkHtml = 'Like what you see? Visit the ' +\n",
              "            '<a target=\"_blank\" href=https://colab.research.google.com/notebooks/data_table.ipynb>data table notebook</a>'\n",
              "            + ' to learn more about interactive tables.';\n",
              "          element.innerHTML = '';\n",
              "          dataTable['output_type'] = 'display_data';\n",
              "          await google.colab.output.renderOutput(dataTable, element);\n",
              "          const docLink = document.createElement('div');\n",
              "          docLink.innerHTML = docLinkHtml;\n",
              "          element.appendChild(docLink);\n",
              "        }\n",
              "      </script>\n",
              "    </div>\n",
              "  </div>\n",
              "  "
            ],
            "text/plain": [
              "   Customer_Age    Gender  Dependent_count  Months_on_book  \\\n",
              "0      0.071555  1.058419        -0.268854        0.545638   \n",
              "1      0.951319  1.058419        -1.040993        1.648729   \n",
              "2     -0.682528 -0.944805         1.275424       -0.419567   \n",
              "3      0.197236 -0.944805         0.503285        0.407752   \n",
              "4      0.322916  1.058419         1.275424        0.683524   \n",
              "\n",
              "   Total_Relationship_Count  Months_Inactive_12_mon  Contacts_Count_12_mon  \\\n",
              "0                  1.414525               -1.486454               0.555004   \n",
              "1                  0.127801               -0.019205               1.662909   \n",
              "2                  0.771163               -0.301717               0.555004   \n",
              "3                 -0.515561               -1.486454              -0.552900   \n",
              "4                 -0.515561               -1.486454              -1.660805   \n",
              "\n",
              "   Credit_Limit  Total_Revolving_Bal  Avg_Open_To_Buy  ...  \\\n",
              "0      2.068411             0.075773         2.051454  ...   \n",
              "1     -0.298444             0.081877        -0.311026  ...   \n",
              "2     -0.666433            -0.417437        -0.597620  ...   \n",
              "3     -0.026401             0.705715        -0.140251  ...   \n",
              "4      0.181679             0.053798         0.172540  ...   \n",
              "\n",
              "   Income_Category_Less than $40K  Income_Category_Unknown  \\\n",
              "0                       -0.734755                -0.352149   \n",
              "1                       -0.734755                -0.352149   \n",
              "2                        1.360997                -0.352149   \n",
              "3                       -0.734755                 2.839707   \n",
              "4                       -0.734755                -0.352149   \n",
              "\n",
              "   Card_Category_Blue  Card_Category_Gold  Card_Category_Platinum  \\\n",
              "0            0.266796           -0.107517               -0.047565   \n",
              "1            0.266796           -0.107517               -0.047565   \n",
              "2            0.266796           -0.107517               -0.047565   \n",
              "3            0.266796           -0.107517               -0.047565   \n",
              "4            0.266796           -0.107517               -0.047565   \n",
              "\n",
              "   Card_Category_Silver  Marital_Status_Divorced  Marital_Status_Married  \\\n",
              "0             -0.236018                 3.546624               -0.931779   \n",
              "1             -0.236018                -0.281958               -0.931779   \n",
              "2             -0.236018                -0.281958                1.073215   \n",
              "3             -0.236018                -0.281958                1.073215   \n",
              "4             -0.236018                 3.546624               -0.931779   \n",
              "\n",
              "   Marital_Status_Single  Marital_Status_Unknown  \n",
              "0              -0.800937               -0.276084  \n",
              "1               1.248537               -0.276084  \n",
              "2              -0.800937               -0.276084  \n",
              "3              -0.800937               -0.276084  \n",
              "4              -0.800937               -0.276084  \n",
              "\n",
              "[5 rows x 36 columns]"
            ]
          },
          "execution_count": 39,
          "metadata": {},
          "output_type": "execute_result"
        }
      ],
      "source": [
        "# Scaling\n",
        "sc = StandardScaler()  # (x - mean)/std\n",
        "x1 = sc.fit_transform(X_train, y_train)\n",
        "x2 = sc.transform(X_test)\n",
        "X_train = pd.DataFrame(x1, columns=X_enc.columns)\n",
        "X_test = pd.DataFrame(x2, columns=X_enc.columns)\n",
        "# print\n",
        "X_train.head(5)"
      ]
    },
    {
      "cell_type": "markdown",
      "metadata": {
        "id": "y59dqoA3ES06"
      },
      "source": [
        "##Feature Selection"
      ]
    },
    {
      "cell_type": "code",
      "execution_count": null,
      "metadata": {
        "id": "7bqiuWyeESez",
        "colab": {
          "base_uri": "https://localhost:8080/",
          "height": 658
        },
        "outputId": "ae39fc80-4b48-4bb8-86a9-ec4e859c06ca"
      },
      "outputs": [
        {
          "output_type": "display_data",
          "data": {
            "text/plain": [
              "<Figure size 864x432 with 1 Axes>"
            ],
            "image/png": "[encoded data removed]"
          },
          "metadata": {
            "needs_background": "light"
          }
        },
        {
          "output_type": "stream",
          "name": "stdout",
          "text": [
            "List of selected features: \n",
            "['x0' 'x3' 'x4' 'x5' 'x7' 'x8' 'x9' 'x10' 'x11' 'x12' 'x13' 'x14']\n",
            "Number of selected features: \n",
            "12\n"
          ]
        },
        {
          "output_type": "error",
          "ename": "IndexError",
          "evalue": "ignored",
          "traceback": [
            "\u001b[0;31m---------------------------------------------------------------------------\u001b[0m",
            "\u001b[0;31mIndexError\u001b[0m                                Traceback (most recent call last)",
            "\u001b[0;32m<ipython-input-20-0b1c88d17805>\u001b[0m in \u001b[0;36m<module>\u001b[0;34m()\u001b[0m\n\u001b[1;32m     14\u001b[0m \u001b[0mprint\u001b[0m\u001b[0;34m(\u001b[0m\u001b[0mrfecv\u001b[0m\u001b[0;34m.\u001b[0m\u001b[0mn_features_\u001b[0m\u001b[0;34m)\u001b[0m\u001b[0;34m\u001b[0m\u001b[0;34m\u001b[0m\u001b[0m\n\u001b[1;32m     15\u001b[0m \u001b[0;31m# # Get only features selected by RFE for X and X set\u001b[0m\u001b[0;34m\u001b[0m\u001b[0;34m\u001b[0m\u001b[0;34m\u001b[0m\u001b[0m\n\u001b[0;32m---> 16\u001b[0;31m \u001b[0mX\u001b[0m \u001b[0;34m=\u001b[0m \u001b[0mX\u001b[0m\u001b[0;34m[\u001b[0m\u001b[0mrfe_features\u001b[0m\u001b[0;34m[\u001b[0m\u001b[0;34m:\u001b[0m\u001b[0;34m]\u001b[0m\u001b[0;34m]\u001b[0m\u001b[0;34m\u001b[0m\u001b[0;34m\u001b[0m\u001b[0m\n\u001b[0m\u001b[1;32m     17\u001b[0m \u001b[0my\u001b[0m \u001b[0;34m=\u001b[0m \u001b[0my\u001b[0m\u001b[0;34m[\u001b[0m\u001b[0mrfe_features\u001b[0m\u001b[0;34m[\u001b[0m\u001b[0;34m:\u001b[0m\u001b[0;34m]\u001b[0m\u001b[0;34m]\u001b[0m\u001b[0;34m\u001b[0m\u001b[0;34m\u001b[0m\u001b[0m\n",
            "\u001b[0;31mIndexError\u001b[0m: arrays used as indices must be of integer (or boolean) type"
          ]
        }
      ],
      "source": [
        "rfecv = RFECV(estimator=RandomForestClassifier())\n",
        "rfecv.fit(X, y)\n",
        "rfecv.transform(X)\n",
        "dict_result = rfecv.cv_results_\n",
        "plt.figure(figsize=(12, 6))\n",
        "plt.xlabel('Number of features selected')\n",
        "plt.ylabel('Cross validation score (nb of correct classifications)')\n",
        "plt.plot(range(1, len(dict_result['mean_test_score']) + 1), dict_result['mean_test_score'])\n",
        "plt.show()\n",
        "rfe_features = rfecv.get_feature_names_out()\n",
        "print(\"List of selected features: \")\n",
        "print(rfe_features)\n",
        "print(\"Number of selected features: \")\n",
        "print(rfecv.n_features_)\n",
        "# # Get only features selected by RFE for X and X set\n",
        "X = X[rfe_features]\n",
        "y = y[rfe_features]"
      ]
    },
    {
      "cell_type": "markdown",
      "source": [
        "## K-fold Cross Validation"
      ],
      "metadata": {
        "id": "1I7h4XNfxT_o"
      }
    },
    {
      "cell_type": "code",
      "source": [
        "from sklearn.model_selection import KFold\n",
        "from imblearn.over_sampling import SMOTE\n",
        "from sklearn.metrics import f1_score\n",
        "from sklearn.metrics import recall_score\n",
        "from sklearn.metrics import precision_score\n",
        "\n",
        "\n",
        "from sklearn.model_selection import StratifiedKFold\n",
        "\n",
        "cv = KFold(n_splits=10)\n",
        "\n",
        "lst_Precision = []\n",
        "lst_Recall = []\n",
        "lst_f1 = []\n",
        "for train_index, test_index, in cv.split(X, y):\n",
        "    X_train = X[train_index]\n",
        "    y_train = y[train_index]  # Based on your code, you might need a ravel call here, but I would look into how you're generating your y\n",
        "    X_test = X[test_index]\n",
        "    y_test = y[test_index]  # See comment on ravel and  y_train\n",
        "    \n",
        "    smote = SMOTE(sampling_strategy='auto', k_neighbors=5, random_state=0)\n",
        "    sm = SMOTETomek(random_state=42, smote=smote)\n",
        "    X_train_oversampled, y_train_oversampled = sm.fit_resample(X_train, y_train)\n",
        "    model = AdaBoostClassifier(random_state=0)  # Choose a model here\n",
        "    model.fit(X_train_oversampled, y_train_oversampled )  \n",
        "    y_pred = model.predict(X_test)\n",
        "    lst_Precision.append(precision_score(y_test, y_pred))\n",
        "    lst_Recall.append(recall_score(y_test, y_pred))\n",
        "    lst_f1.append(f1_score(y_test, y_pred))\n",
        "\n",
        "from statistics import mean\n",
        "print('Precision: ')\n",
        "\n",
        "print(mean(lst_Precision))\n",
        "print('Recall: ')\n",
        "\n",
        "print(mean(lst_Recall))\n",
        "print('F1:')\n",
        "\n",
        "print(mean(lst_f1))\n",
        "    "
      ],
      "metadata": {
        "id": "c57hyQLvxaag",
        "colab": {
          "base_uri": "https://localhost:8080/"
        },
        "outputId": "0358457b-c3e1-4647-94a3-e4bd1e70d467"
      },
      "execution_count": null,
      "outputs": [
        {
          "output_type": "stream",
          "name": "stdout",
          "text": [
            "Precision: \n",
            "0.639335013783687\n",
            "Recall: \n",
            "0.8161750038060953\n",
            "F1:\n",
            "0.6433947366236833\n"
          ]
        }
      ]
    },
    {
      "cell_type": "code",
      "source": [
        "from sklearn.model_selection import KFold\n",
        "from imblearn.over_sampling import SMOTE\n",
        "from sklearn.metrics import f1_score\n",
        "from sklearn.metrics import recall_score\n",
        "from sklearn.metrics import precision_score\n",
        "\n",
        "\n",
        "from sklearn.model_selection import StratifiedKFold\n",
        "\n",
        "cv = KFold(n_splits=10)\n",
        "\n",
        "lst_Precision = []\n",
        "lst_Recall = []\n",
        "lst_f1 = []\n",
        "for train_index, test_index, in cv.split(X, y):\n",
        "    X_train = X[train_index]\n",
        "    y_train = y[train_index]  # Based on your code, you might need a ravel call here, but I would look into how you're generating your y\n",
        "    X_test = X[test_index]\n",
        "    y_test = y[test_index]  # See comment on ravel and  y_train\n",
        "    \n",
        " \n",
        "\n",
        "    model = AdaBoostClassifier(random_state=0)  # Choose a model here\n",
        "    model.fit(X_train, y_train)  \n",
        "    y_pred = model.predict(X_test)\n",
        "    lst_Precision.append(precision_score(y_test, y_pred))\n",
        "    lst_Recall.append(recall_score(y_test, y_pred))\n",
        "    lst_f1.append(f1_score(y_test, y_pred))\n",
        "\n",
        "from statistics import mean\n",
        "print('Precision: ')\n",
        "\n",
        "print(mean(lst_Precision))\n",
        "print('Recall: ')\n",
        "\n",
        "print(mean(lst_Recall))\n",
        "print('F1:')\n",
        "\n",
        "print(mean(lst_f1))\n",
        "    "
      ],
      "metadata": {
        "colab": {
          "base_uri": "https://localhost:8080/"
        },
        "id": "Fcxo-w1sSxCS",
        "outputId": "9a24d785-a3fb-4a15-a2bf-1cd9d2c68bf3"
      },
      "execution_count": null,
      "outputs": [
        {
          "output_type": "stream",
          "name": "stdout",
          "text": [
            "Precision: \n",
            "0.7147333923502727\n",
            "Recall: \n",
            "0.7269913592715713\n",
            "F1:\n",
            "0.6615939244358783\n"
          ]
        }
      ]
    },
    {
      "cell_type": "markdown",
      "metadata": {
        "id": "2ja2HJ0GEpDY"
      },
      "source": [
        "##Resample to Balance Dataset and Modeling\n"
      ]
    },
    {
      "cell_type": "markdown",
      "metadata": {
        "id": "BTwL7m2T29gh"
      },
      "source": [
        "###**Original** dataset"
      ]
    },
    {
      "cell_type": "code",
      "execution_count": null,
      "metadata": {
        "colab": {
          "base_uri": "https://localhost:8080/"
        },
        "id": "ZrydTMUnVU-l",
        "outputId": "46734493-0dc1-424f-c292-18479aab1b06"
      },
      "outputs": [
        {
          "name": "stdout",
          "output_type": "stream",
          "text": [
            "LogisticRegression()\n",
            "[[2289   90]\n",
            " [ 424  197]]\n",
            "              precision    recall  f1-score   support\n",
            "\n",
            "           0       0.84      0.96      0.90      2379\n",
            "           1       0.69      0.32      0.43       621\n",
            "\n",
            "    accuracy                           0.83      3000\n",
            "   macro avg       0.77      0.64      0.67      3000\n",
            "weighted avg       0.81      0.83      0.80      3000\n",
            "\n",
            "\t\n",
            "DecisionTreeClassifier(criterion='entropy')\n",
            "[[2056  323]\n",
            " [ 283  338]]\n",
            "              precision    recall  f1-score   support\n",
            "\n",
            "           0       0.88      0.86      0.87      2379\n",
            "           1       0.51      0.54      0.53       621\n",
            "\n",
            "    accuracy                           0.80      3000\n",
            "   macro avg       0.70      0.70      0.70      3000\n",
            "weighted avg       0.80      0.80      0.80      3000\n",
            "\n",
            "\t\n",
            "RandomForestClassifier(criterion='entropy', n_estimators=1000, random_state=0)\n",
            "[[2281   98]\n",
            " [ 321  300]]\n",
            "              precision    recall  f1-score   support\n",
            "\n",
            "           0       0.88      0.96      0.92      2379\n",
            "           1       0.75      0.48      0.59       621\n",
            "\n",
            "    accuracy                           0.86      3000\n",
            "   macro avg       0.82      0.72      0.75      3000\n",
            "weighted avg       0.85      0.86      0.85      3000\n",
            "\n",
            "\t\n",
            "SVC()\n",
            "[[2310   69]\n",
            " [ 378  243]]\n",
            "              precision    recall  f1-score   support\n",
            "\n",
            "           0       0.86      0.97      0.91      2379\n",
            "           1       0.78      0.39      0.52       621\n",
            "\n",
            "    accuracy                           0.85      3000\n",
            "   macro avg       0.82      0.68      0.72      3000\n",
            "weighted avg       0.84      0.85      0.83      3000\n",
            "\n",
            "\t\n",
            "AdaBoostClassifier(random_state=0)\n",
            "[[2250  129]\n",
            " [ 311  310]]\n",
            "              precision    recall  f1-score   support\n",
            "\n",
            "           0       0.88      0.95      0.91      2379\n",
            "           1       0.71      0.50      0.58       621\n",
            "\n",
            "    accuracy                           0.85      3000\n",
            "   macro avg       0.79      0.72      0.75      3000\n",
            "weighted avg       0.84      0.85      0.84      3000\n",
            "\n",
            "\t\n"
          ]
        },
        {
          "name": "stderr",
          "output_type": "stream",
          "text": [
            "/usr/local/lib/python3.7/dist-packages/sklearn/base.py:442: UserWarning: X does not have valid feature names, but AdaBoostClassifier was fitted with feature names\n",
            "  \"X does not have valid feature names, but\"\n"
          ]
        }
      ],
      "source": [
        "\n",
        "lst = [LogisticRegression(),\n",
        "        DecisionTreeClassifier(criterion='entropy'),\n",
        "        RandomForestClassifier(n_estimators=1000, criterion='entropy', random_state=0),\n",
        "        SVC(),\n",
        "        AdaBoostClassifier(random_state=0),\n",
        "        ]\n",
        "\n",
        "for model in lst:\n",
        "    \n",
        "    print(str(model))\n",
        "    model.fit(X_train, y_train)\n",
        "    y_test_predict = model.predict(X_test)\n",
        "    print(metrics.confusion_matrix(y_test, y_test_predict))\n",
        "    print(metrics.classification_report(y_test, y_test_predict))\n",
        "    print('\\t')"
      ]
    },
    {
      "cell_type": "markdown",
      "metadata": {
        "id": "X4mxgn2RT4_D"
      },
      "source": [
        "###Smote "
      ]
    },
    {
      "cell_type": "code",
      "execution_count": null,
      "metadata": {
        "colab": {
          "base_uri": "https://localhost:8080/"
        },
        "id": "b99cTEoG4Fon",
        "outputId": "b78219c7-281a-479f-aad3-fd8870e344f5"
      },
      "outputs": [
        {
          "name": "stdout",
          "output_type": "stream",
          "text": [
            "LogisticRegression()\n",
            "              precision    recall  f1-score   support\n",
            "\n",
            "           0       0.91      0.72      0.81      2379\n",
            "           1       0.41      0.72      0.52       621\n",
            "\n",
            "    accuracy                           0.72      3000\n",
            "   macro avg       0.66      0.72      0.66      3000\n",
            "weighted avg       0.81      0.72      0.75      3000\n",
            "\n",
            "DecisionTreeClassifier(criterion='entropy')\n",
            "              precision    recall  f1-score   support\n",
            "\n",
            "           0       0.88      0.83      0.85      2379\n",
            "           1       0.45      0.55      0.50       621\n",
            "\n",
            "    accuracy                           0.77      3000\n",
            "   macro avg       0.66      0.69      0.67      3000\n",
            "weighted avg       0.79      0.77      0.78      3000\n",
            "\n",
            "RandomForestClassifier(criterion='entropy', n_estimators=1000, random_state=0)\n",
            "              precision    recall  f1-score   support\n",
            "\n",
            "           0       0.90      0.89      0.90      2379\n",
            "           1       0.61      0.63      0.62       621\n",
            "\n",
            "    accuracy                           0.84      3000\n",
            "   macro avg       0.75      0.76      0.76      3000\n",
            "weighted avg       0.84      0.84      0.84      3000\n",
            "\n",
            "SVC()\n",
            "              precision    recall  f1-score   support\n",
            "\n",
            "           0       0.91      0.78      0.84      2379\n",
            "           1       0.46      0.71      0.56       621\n",
            "\n",
            "    accuracy                           0.77      3000\n",
            "   macro avg       0.69      0.75      0.70      3000\n",
            "weighted avg       0.82      0.77      0.78      3000\n",
            "\n",
            "AdaBoostClassifier(random_state=0)\n",
            "              precision    recall  f1-score   support\n",
            "\n",
            "           0       0.91      0.81      0.86      2379\n",
            "           1       0.49      0.71      0.58       621\n",
            "\n",
            "    accuracy                           0.79      3000\n",
            "   macro avg       0.70      0.76      0.72      3000\n",
            "weighted avg       0.83      0.79      0.80      3000\n",
            "\n"
          ]
        },
        {
          "name": "stderr",
          "output_type": "stream",
          "text": [
            "/usr/local/lib/python3.7/dist-packages/sklearn/base.py:442: UserWarning: X does not have valid feature names, but AdaBoostClassifier was fitted with feature names\n",
            "  \"X does not have valid feature names, but\"\n"
          ]
        }
      ],
      "source": [
        "smote = SMOTE(sampling_strategy='auto', k_neighbors=5, random_state=42)\n",
        "X_Smote_train, y_Smote_train = smote.fit_resample(X_train, y_train)\n",
        "\n",
        "lst = [LogisticRegression(),\n",
        "        DecisionTreeClassifier(criterion='entropy'),\n",
        "        RandomForestClassifier(n_estimators=1000, criterion='entropy', random_state=0),\n",
        "        SVC(),\n",
        "        AdaBoostClassifier(random_state=0),\n",
        "        ]\n",
        "\n",
        "for model in lst:\n",
        "    lst_metrics = []\n",
        "    print(str(model))\n",
        "    model.fit(X_Smote_train, y_Smote_train)\n",
        "    y_test_predict = model.predict(X_test)\n",
        "    print(metrics.classification_report(y_test, y_test_predict))\n"
      ]
    },
    {
      "cell_type": "markdown",
      "metadata": {
        "id": "4FBHYW22VcC3"
      },
      "source": [
        "### Smote Enn"
      ]
    },
    {
      "cell_type": "code",
      "execution_count": null,
      "metadata": {
        "colab": {
          "base_uri": "https://localhost:8080/"
        },
        "id": "kKhajfTHVlAH",
        "outputId": "d736cd62-ddd3-4eaa-cec2-26ba382c1827"
      },
      "outputs": [
        {
          "name": "stdout",
          "output_type": "stream",
          "text": [
            "LogisticRegression()\n",
            "              precision    recall  f1-score   support\n",
            "\n",
            "           0       0.92      0.63      0.74      2379\n",
            "           1       0.36      0.79      0.49       621\n",
            "\n",
            "    accuracy                           0.66      3000\n",
            "   macro avg       0.64      0.71      0.62      3000\n",
            "weighted avg       0.80      0.66      0.69      3000\n",
            "\n",
            "DecisionTreeClassifier(criterion='entropy')\n",
            "              precision    recall  f1-score   support\n",
            "\n",
            "           0       0.92      0.75      0.83      2379\n",
            "           1       0.44      0.75      0.55       621\n",
            "\n",
            "    accuracy                           0.75      3000\n",
            "   macro avg       0.68      0.75      0.69      3000\n",
            "weighted avg       0.82      0.75      0.77      3000\n",
            "\n",
            "RandomForestClassifier(criterion='entropy', n_estimators=1000, random_state=0)\n",
            "              precision    recall  f1-score   support\n",
            "\n",
            "           0       0.92      0.79      0.85      2379\n",
            "           1       0.48      0.75      0.59       621\n",
            "\n",
            "    accuracy                           0.78      3000\n",
            "   macro avg       0.70      0.77      0.72      3000\n",
            "weighted avg       0.83      0.78      0.80      3000\n",
            "\n",
            "SVC()\n",
            "              precision    recall  f1-score   support\n",
            "\n",
            "           0       0.93      0.71      0.80      2379\n",
            "           1       0.41      0.78      0.54       621\n",
            "\n",
            "    accuracy                           0.72      3000\n",
            "   macro avg       0.67      0.74      0.67      3000\n",
            "weighted avg       0.82      0.72      0.75      3000\n",
            "\n",
            "AdaBoostClassifier(random_state=0)\n",
            "              precision    recall  f1-score   support\n",
            "\n",
            "           0       0.94      0.72      0.81      2379\n",
            "           1       0.43      0.81      0.56       621\n",
            "\n",
            "    accuracy                           0.74      3000\n",
            "   macro avg       0.68      0.76      0.69      3000\n",
            "weighted avg       0.83      0.74      0.76      3000\n",
            "\n"
          ]
        },
        {
          "name": "stderr",
          "output_type": "stream",
          "text": [
            "/usr/local/lib/python3.7/dist-packages/sklearn/base.py:442: UserWarning: X does not have valid feature names, but AdaBoostClassifier was fitted with feature names\n",
            "  \"X does not have valid feature names, but\"\n"
          ]
        }
      ],
      "source": [
        "# SMOTE-ENN\n",
        "sme = SMOTEENN(random_state=42, smote=smote)\n",
        "X_SmoteENN_train, y_SmoteENN_train = sme.fit_resample(X_train, y_train)\n",
        "lst = [LogisticRegression(),\n",
        "        DecisionTreeClassifier(criterion='entropy'),\n",
        "        RandomForestClassifier(n_estimators=1000, criterion='entropy', random_state=0),\n",
        "        SVC(),\n",
        "        AdaBoostClassifier(random_state=0),\n",
        "        ]\n",
        "\n",
        "for model in lst:\n",
        "    lst_metrics = []\n",
        "    print(str(model))\n",
        "    model.fit(X_SmoteENN_train, y_SmoteENN_train)\n",
        "    y_test_predict = model.predict(X_test)\n",
        "    print(metrics.classification_report(y_test, y_test_predict))\n"
      ]
    },
    {
      "cell_type": "markdown",
      "metadata": {
        "id": "PS4xCgc7WPPZ"
      },
      "source": [
        "### Smote - tomeklinks\n"
      ]
    },
    {
      "cell_type": "code",
      "execution_count": null,
      "metadata": {
        "colab": {
          "base_uri": "https://localhost:8080/"
        },
        "id": "f-O4akPlWRqc",
        "outputId": "570307f9-a093-47e0-dd0e-048b49708ef9"
      },
      "outputs": [
        {
          "name": "stdout",
          "output_type": "stream",
          "text": [
            "LogisticRegression()\n",
            "[[1727  652]\n",
            " [ 174  447]]\n",
            "              precision    recall  f1-score   support\n",
            "\n",
            "           0       0.91      0.73      0.81      2379\n",
            "           1       0.41      0.72      0.52       621\n",
            "\n",
            "    accuracy                           0.72      3000\n",
            "   macro avg       0.66      0.72      0.66      3000\n",
            "weighted avg       0.80      0.72      0.75      3000\n",
            "\n",
            "DecisionTreeClassifier(criterion='entropy')\n",
            "[[2003  376]\n",
            " [ 277  344]]\n",
            "              precision    recall  f1-score   support\n",
            "\n",
            "           0       0.88      0.84      0.86      2379\n",
            "           1       0.48      0.55      0.51       621\n",
            "\n",
            "    accuracy                           0.78      3000\n",
            "   macro avg       0.68      0.70      0.69      3000\n",
            "weighted avg       0.80      0.78      0.79      3000\n",
            "\n",
            "RandomForestClassifier(criterion='entropy', n_estimators=1000, random_state=0)\n",
            "[[2127  252]\n",
            " [ 233  388]]\n",
            "              precision    recall  f1-score   support\n",
            "\n",
            "           0       0.90      0.89      0.90      2379\n",
            "           1       0.61      0.62      0.62       621\n",
            "\n",
            "    accuracy                           0.84      3000\n",
            "   macro avg       0.75      0.76      0.76      3000\n",
            "weighted avg       0.84      0.84      0.84      3000\n",
            "\n",
            "SVC()\n",
            "[[1866  513]\n",
            " [ 183  438]]\n",
            "              precision    recall  f1-score   support\n",
            "\n",
            "           0       0.91      0.78      0.84      2379\n",
            "           1       0.46      0.71      0.56       621\n",
            "\n",
            "    accuracy                           0.77      3000\n",
            "   macro avg       0.69      0.74      0.70      3000\n",
            "weighted avg       0.82      0.77      0.78      3000\n",
            "\n",
            "AdaBoostClassifier(random_state=0)\n",
            "[[1942  437]\n",
            " [ 170  451]]\n",
            "              precision    recall  f1-score   support\n",
            "\n",
            "           0       0.92      0.82      0.86      2379\n",
            "           1       0.51      0.73      0.60       621\n",
            "\n",
            "    accuracy                           0.80      3000\n",
            "   macro avg       0.71      0.77      0.73      3000\n",
            "weighted avg       0.83      0.80      0.81      3000\n",
            "\n"
          ]
        },
        {
          "name": "stderr",
          "output_type": "stream",
          "text": [
            "/usr/local/lib/python3.7/dist-packages/sklearn/base.py:442: UserWarning: X does not have valid feature names, but AdaBoostClassifier was fitted with feature names\n",
            "  \"X does not have valid feature names, but\"\n"
          ]
        }
      ],
      "source": [
        "smt = SMOTETomek(random_state=42, smote=smote)\n",
        "X_Tomek_train, y_Tomek_train = smt.fit_resample(X_train, y_train)\n",
        "lst = [LogisticRegression(),\n",
        "        DecisionTreeClassifier(criterion='entropy'),\n",
        "        RandomForestClassifier(n_estimators=1000, criterion='entropy', random_state=0),\n",
        "        SVC(),\n",
        "        AdaBoostClassifier(random_state=0),\n",
        "        ]\n",
        "\n",
        "for model in lst:\n",
        "    lst_metrics = []\n",
        "    print(str(model))\n",
        "    model.fit(X_Tomek_train, y_Tomek_train)\n",
        "    y_test_predict = model.predict(X_test)\n",
        "    print(metrics.confusion_matrix(y_test, y_test_predict))\n",
        "    print(metrics.classification_report(y_test, y_test_predict))"
      ]
    },
    {
      "cell_type": "code",
      "execution_count": null,
      "metadata": {
        "colab": {
          "base_uri": "https://localhost:8080/"
        },
        "id": "JBYgydHbc8C0",
        "outputId": "c04a1a10-0743-434b-89ae-97aef5d1c6de"
      },
      "outputs": [
        {
          "name": "stdout",
          "output_type": "stream",
          "text": [
            "Looking in indexes: https://pypi.org/simple, https://us-python.pkg.dev/colab-wheels/public/simple/\n",
            "Requirement already satisfied: scikit-learn==1.0 in /usr/local/lib/python3.7/dist-packages (1.0)\n",
            "Requirement already satisfied: numpy>=1.14.6 in /usr/local/lib/python3.7/dist-packages (from scikit-learn==1.0) (1.21.6)\n",
            "Requirement already satisfied: scipy>=1.1.0 in /usr/local/lib/python3.7/dist-packages (from scikit-learn==1.0) (1.7.3)\n",
            "Requirement already satisfied: threadpoolctl>=2.0.0 in /usr/local/lib/python3.7/dist-packages (from scikit-learn==1.0) (3.1.0)\n",
            "Requirement already satisfied: joblib>=0.11 in /usr/local/lib/python3.7/dist-packages (from scikit-learn==1.0) (1.1.0)\n"
          ]
        }
      ],
      "source": [
        "!pip install scikit-learn==1.0 -U"
      ]
    },
    {
      "cell_type": "code",
      "execution_count": null,
      "metadata": {
        "colab": {
          "base_uri": "https://localhost:8080/"
        },
        "id": "4dLG___zaXd6",
        "outputId": "c150d9db-f13c-4ae2-8708-1029b13f5f51"
      },
      "outputs": [
        {
          "name": "stdout",
          "output_type": "stream",
          "text": [
            "[[1802  577]\n",
            " [ 132  489]]\n",
            "              precision    recall  f1-score   support\n",
            "\n",
            "           0       0.93      0.76      0.84      2379\n",
            "           1       0.46      0.79      0.58       621\n",
            "\n",
            "    accuracy                           0.76      3000\n",
            "   macro avg       0.70      0.77      0.71      3000\n",
            "weighted avg       0.83      0.76      0.78      3000\n",
            "\n"
          ]
        }
      ],
      "source": [
        "\n",
        "from imblearn.ensemble import EasyEnsembleClassifier \n",
        "eec = EasyEnsembleClassifier(random_state=0)\n",
        "\n",
        "eec.fit(X_train, y_train)\n",
        "y_pred = eec.predict(X_test)\n",
        "print(metrics.confusion_matrix(y_test, y_pred))\n",
        "print(metrics.classification_report(y_test, y_pred))"
      ]
    }
  ],
  "metadata": {
    "colab": {
      "collapsed_sections": [],
      "name": "Paper_T7_Imbalace_Churn_Prediction.ipynb",
      "provenance": []
    },
    "kernelspec": {
      "display_name": "Python 3",
      "name": "python3"
    },
    "language_info": {
      "name": "python"
    }
  },
  "nbformat": 4,
  "nbformat_minor": 0
}